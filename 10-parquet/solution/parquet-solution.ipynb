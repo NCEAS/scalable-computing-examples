{
 "cells": [
  {
   "cell_type": "markdown",
   "metadata": {},
   "source": [
    "# Parquet, DuckDB, and Arrow: Columnar data examples"
   ]
  },
  {
   "cell_type": "markdown",
   "metadata": {},
   "source": [
    "Let's start by accessing an existing 1.3 GB parquet file over the web."
   ]
  },
  {
   "cell_type": "code",
   "execution_count": null,
   "metadata": {},
   "outputs": [
    {
     "name": "stdout",
     "output_type": "stream",
     "text": [
      "['stat', 'bounds', 'min', 'max', 'mean', 'median', 'std', 'var', 'sum', 'path', 'tile', 'z']\n"
     ]
    }
   ],
   "source": [
    "import duckdb\n",
    "import os"
   ]
  },
  {
   "cell_type": "code",
   "execution_count": 12,
   "metadata": {},
   "outputs": [
    {
     "name": "stdout",
     "output_type": "stream",
     "text": [
      "['stat', 'bounds', 'min', 'max', 'mean', 'median', 'std', 'var', 'sum', 'path', 'tile', 'z']\n"
     ]
    }
   ],
   "source": [
    "iwp_path = 'https://arcticdata.io/data/10.18739/A24F1MK7Q/iwp_geotiff_low_medium/raster_summary.parquet'\n",
    "iwp = duckdb.read_parquet(iwp_path)\n",
    "print(iwp.columns)"
   ]
  },
  {
   "cell_type": "code",
   "execution_count": 2,
   "metadata": {},
   "outputs": [
    {
     "name": "stdout",
     "output_type": "stream",
     "text": [
      "┌──────────┐\n",
      "│    n     │\n",
      "│  int64   │\n",
      "├──────────┤\n",
      "│ 18150329 │\n",
      "└──────────┘\n",
      "\n"
     ]
    }
   ],
   "source": [
    "duckdb.sql(\"SELECT count(*) as n FROM iwp;\").show()"
   ]
  },
  {
   "cell_type": "code",
   "execution_count": 3,
   "metadata": {},
   "outputs": [
    {
     "name": "stdout",
     "output_type": "stream",
     "text": [
      "┌──────────────┐\n",
      "│     stat     │\n",
      "│   varchar    │\n",
      "├──────────────┤\n",
      "│ iwp_coverage │\n",
      "└──────────────┘\n",
      "\n"
     ]
    }
   ],
   "source": [
    "duckdb.sql(\"select distinct stat from iwp order by stat;\").show()"
   ]
  },
  {
   "cell_type": "code",
   "execution_count": 5,
   "metadata": {},
   "outputs": [
    {
     "data": {
      "text/plain": [
       "┌──────────────┐\n",
       "│ count_star() │\n",
       "│    int64     │\n",
       "├──────────────┤\n",
       "│        37169 │\n",
       "└──────────────┘"
      ]
     },
     "execution_count": 5,
     "metadata": {},
     "output_type": "execute_result"
    }
   ],
   "source": [
    "low_coverage = iwp.project(\"bounds, sum\").filter(\"sum < 10\")\n",
    "low_coverage.count('*')"
   ]
  },
  {
   "cell_type": "code",
   "execution_count": 9,
   "metadata": {},
   "outputs": [
    {
     "data": {
      "application/vnd.jupyter.widget-view+json": {
       "model_id": "cfd7184917e943c694486760f5b8742a",
       "version_major": 2,
       "version_minor": 0
      },
      "text/plain": [
       "FloatProgress(value=0.0, layout=Layout(width='auto'), style=ProgressStyle(bar_color='black'))"
      ]
     },
     "metadata": {},
     "output_type": "display_data"
    },
    {
     "data": {
      "text/plain": [
       "1.4038171768188477"
      ]
     },
     "execution_count": 9,
     "metadata": {},
     "output_type": "execute_result"
    }
   ],
   "source": [
    "low_coverage.write_parquet(\"low_coverage.parquet\")\n",
    "os.stat(\"low_coverage.parquet\").st_size / (1024 * 1024)"
   ]
  },
  {
   "cell_type": "code",
   "execution_count": 11,
   "metadata": {},
   "outputs": [
    {
     "data": {
      "application/vnd.jupyter.widget-view+json": {
       "model_id": "a1164e877fa24c50b874dce94a1a15f9",
       "version_major": 2,
       "version_minor": 0
      },
      "text/plain": [
       "FloatProgress(value=0.0, layout=Layout(width='auto'), style=ProgressStyle(bar_color='black'))"
      ]
     },
     "metadata": {},
     "output_type": "display_data"
    },
    {
     "name": "stdout",
     "output_type": "stream",
     "text": [
      "┌──────────────────────────────────────────────────────────────────────────────────┬───────────────────┐\n",
      "│                                      bounds                                      │        sum        │\n",
      "│                                     varchar                                      │      double       │\n",
      "├──────────────────────────────────────────────────────────────────────────────────┼───────────────────┤\n",
      "│ [116.99340820312375, 117.00439453124875, 71.32324218750009, 71.33422851562509]   │ 9.999709300915525 │\n",
      "│ [116.99340820312375, 117.00439453124875, 71.32324218750009, 71.33422851562509]   │ 9.999709300915525 │\n",
      "│ [-77.78320312500044, -77.76123046875044, 81.47460937500003, 81.49658203125003]   │ 9.999367985118123 │\n",
      "│ [-154.6655273437501, -154.6435546875001, 70.88378906250009, 70.90576171875009]   │ 9.998618022818269 │\n",
      "│ [-116.36169433593756, -116.35620117187506, 77.39868164062501, 77.40417480468751] │ 9.998248625671277 │\n",
      "│ [95.05920410156227, 95.06469726562477, 71.65832519531251, 71.66381835937501]     │ 9.997617767005346 │\n",
      "│ [-100.64575195312506, -100.64025878906256, 78.31054687500001, 78.31604003906251] │ 9.997102780461583 │\n",
      "│ [123.91479492187477, 123.92028808593727, 73.11950683593751, 73.12500000000001]   │ 9.996871067852531 │\n",
      "│ [-167.684326171875, -167.6788330078125, 65.73669433593751, 65.74218750000001]    │ 9.995733779230603 │\n",
      "│ [158.52172851562472, 158.52722167968722, 69.99938964843751, 70.00488281250001]   │ 9.995298698978356 │\n",
      "├──────────────────────────────────────────────────────────────────────────────────┴───────────────────┤\n",
      "│ 10 rows                                                                                    2 columns │\n",
      "└──────────────────────────────────────────────────────────────────────────────────────────────────────┘\n",
      "\n"
     ]
    }
   ],
   "source": [
    "duckdb.sql(\"SELECT * from low_coverage order by sum desc\").limit(10).show()"
   ]
  },
  {
   "cell_type": "markdown",
   "metadata": {},
   "source": [
    "## Delta Fisheries using Arrow\n",
    "\n",
    "In this example, we'll read in a dataset of fish abundance in the San Francisco Estuary, which is published in csv format on the [Environmental Data Initiative](https://portal.edirepository.org/nis/mapbrowse?scope=edi&identifier=1075&revision=1). This dataset isn't huge, but it is big enough (3 GB) that working with it locally can be fairly taxing on memory. Motivated by user difficulties in actually working with the data, the [`deltafish` R](https://github.com/Delta-Stewardship-Council/deltafish) package was written using the R implementation of `arrow`. It works by downloading the EDI repository data, writing it to a local cache in parquet format, and using `arrow` to query it. In this example, I've put the Parquet files in a sharable location so we can explore them using `pyarrow`.\n"
   ]
  },
  {
   "cell_type": "code",
   "execution_count": 13,
   "metadata": {},
   "outputs": [],
   "source": [
    "import pyarrow.dataset as ds\n",
    "import numpy as np\n",
    "import pandas as pd"
   ]
  },
  {
   "cell_type": "code",
   "execution_count": 14,
   "metadata": {},
   "outputs": [],
   "source": [
    "deltafish = ds.dataset(\"/home/shares/deltafish/fish\",\n",
    "                       format=\"parquet\",\n",
    "                       partitioning='hive')"
   ]
  },
  {
   "cell_type": "code",
   "execution_count": 15,
   "metadata": {},
   "outputs": [
    {
     "data": {
      "text/plain": [
       "['/home/shares/deltafish/fish/Taxa=Acanthogobius flavimanus/part-0.parquet',\n",
       " '/home/shares/deltafish/fish/Taxa=Acipenser medirostris/part-0.parquet',\n",
       " '/home/shares/deltafish/fish/Taxa=Acipenser transmontanus/part-0.parquet',\n",
       " '/home/shares/deltafish/fish/Taxa=Acipenser/part-0.parquet',\n",
       " '/home/shares/deltafish/fish/Taxa=Actinopteri/part-0.parquet',\n",
       " '/home/shares/deltafish/fish/Taxa=Aequorea/part-0.parquet',\n",
       " '/home/shares/deltafish/fish/Taxa=Allosmerus elongatus/part-0.parquet',\n",
       " '/home/shares/deltafish/fish/Taxa=Alopias vulpinus/part-0.parquet',\n",
       " '/home/shares/deltafish/fish/Taxa=Alosa sapidissima/part-0.parquet',\n",
       " '/home/shares/deltafish/fish/Taxa=Alosinae/part-0.parquet',\n",
       " '/home/shares/deltafish/fish/Taxa=Ameiurus catus/part-0.parquet',\n",
       " '/home/shares/deltafish/fish/Taxa=Ameiurus melas/part-0.parquet',\n",
       " '/home/shares/deltafish/fish/Taxa=Ameiurus natalis/part-0.parquet',\n",
       " '/home/shares/deltafish/fish/Taxa=Ameiurus nebulosus/part-0.parquet',\n",
       " '/home/shares/deltafish/fish/Taxa=Ammodytes hexapterus/part-0.parquet',\n",
       " '/home/shares/deltafish/fish/Taxa=Amphistichus argenteus/part-0.parquet',\n",
       " '/home/shares/deltafish/fish/Taxa=Amphistichus koelzi/part-0.parquet',\n",
       " '/home/shares/deltafish/fish/Taxa=Amphistichus rhodoterus/part-0.parquet',\n",
       " '/home/shares/deltafish/fish/Taxa=Anarrhichthys ocellatus/part-0.parquet',\n",
       " '/home/shares/deltafish/fish/Taxa=Anguilliformes/part-0.parquet',\n",
       " '/home/shares/deltafish/fish/Taxa=Apodichthys flavidus/part-0.parquet',\n",
       " '/home/shares/deltafish/fish/Taxa=Archoplites interruptus/part-0.parquet',\n",
       " '/home/shares/deltafish/fish/Taxa=Artedius fenestralis/part-0.parquet',\n",
       " '/home/shares/deltafish/fish/Taxa=Artedius harringtoni/part-0.parquet',\n",
       " '/home/shares/deltafish/fish/Taxa=Artedius notospilotus/part-0.parquet',\n",
       " '/home/shares/deltafish/fish/Taxa=Atheriniformes/part-0.parquet',\n",
       " '/home/shares/deltafish/fish/Taxa=Atherinops affinis/part-0.parquet',\n",
       " '/home/shares/deltafish/fish/Taxa=Atherinopsidae/part-0.parquet',\n",
       " '/home/shares/deltafish/fish/Taxa=Atherinopsis californiensis/part-0.parquet',\n",
       " '/home/shares/deltafish/fish/Taxa=Atractoscion nobilis/part-0.parquet',\n",
       " '/home/shares/deltafish/fish/Taxa=Aulorhynchus flavidus/part-0.parquet',\n",
       " '/home/shares/deltafish/fish/Taxa=Aurelia aurita/part-0.parquet',\n",
       " '/home/shares/deltafish/fish/Taxa=Bathymasteridae/part-0.parquet',\n",
       " '/home/shares/deltafish/fish/Taxa=Blackfordia virginica/part-0.parquet',\n",
       " '/home/shares/deltafish/fish/Taxa=Brachyistius frenatus/part-0.parquet',\n",
       " '/home/shares/deltafish/fish/Taxa=Cancer magister/part-0.parquet',\n",
       " '/home/shares/deltafish/fish/Taxa=Carassius auratus/part-0.parquet',\n",
       " '/home/shares/deltafish/fish/Taxa=Catostomidae/part-0.parquet',\n",
       " '/home/shares/deltafish/fish/Taxa=Catostomus occidentalis/part-0.parquet',\n",
       " '/home/shares/deltafish/fish/Taxa=Centrarchidae/part-0.parquet',\n",
       " '/home/shares/deltafish/fish/Taxa=Chilara taylori/part-0.parquet',\n",
       " '/home/shares/deltafish/fish/Taxa=Chrysaora fuscescens/part-0.parquet',\n",
       " '/home/shares/deltafish/fish/Taxa=Citharichthys sordidus/part-0.parquet',\n",
       " '/home/shares/deltafish/fish/Taxa=Citharichthys stigmaeus/part-0.parquet',\n",
       " '/home/shares/deltafish/fish/Taxa=Citharichthys/part-0.parquet',\n",
       " '/home/shares/deltafish/fish/Taxa=Clevelandia ios/part-0.parquet',\n",
       " '/home/shares/deltafish/fish/Taxa=Clupea pallasii/part-0.parquet',\n",
       " '/home/shares/deltafish/fish/Taxa=Clupeidae/part-0.parquet',\n",
       " '/home/shares/deltafish/fish/Taxa=Cnidaria/part-0.parquet',\n",
       " '/home/shares/deltafish/fish/Taxa=Cololabis saira/part-0.parquet',\n",
       " '/home/shares/deltafish/fish/Taxa=Corbicula fluminea/part-0.parquet',\n",
       " '/home/shares/deltafish/fish/Taxa=Cottidae/part-0.parquet',\n",
       " '/home/shares/deltafish/fish/Taxa=Cottus asper/part-0.parquet',\n",
       " '/home/shares/deltafish/fish/Taxa=Cottus gulosus/part-0.parquet',\n",
       " '/home/shares/deltafish/fish/Taxa=Crangon franciscorum/part-0.parquet',\n",
       " '/home/shares/deltafish/fish/Taxa=Crangon/part-0.parquet',\n",
       " '/home/shares/deltafish/fish/Taxa=Cymatogaster aggregata/part-0.parquet',\n",
       " '/home/shares/deltafish/fish/Taxa=Cyprinella lutrensis/part-0.parquet',\n",
       " '/home/shares/deltafish/fish/Taxa=Cyprinidae/part-0.parquet',\n",
       " '/home/shares/deltafish/fish/Taxa=Cyprinus carpio/part-0.parquet',\n",
       " '/home/shares/deltafish/fish/Taxa=Decapoda/part-0.parquet',\n",
       " '/home/shares/deltafish/fish/Taxa=Dorosoma petenense/part-0.parquet',\n",
       " '/home/shares/deltafish/fish/Taxa=Embiotoca jacksoni/part-0.parquet',\n",
       " '/home/shares/deltafish/fish/Taxa=Embiotoca lateralis/part-0.parquet',\n",
       " '/home/shares/deltafish/fish/Taxa=Embiotocidae/part-0.parquet',\n",
       " '/home/shares/deltafish/fish/Taxa=Engraulis mordax/part-0.parquet',\n",
       " '/home/shares/deltafish/fish/Taxa=Enophrys bison/part-0.parquet',\n",
       " '/home/shares/deltafish/fish/Taxa=Eriocheir sinensis/part-0.parquet',\n",
       " '/home/shares/deltafish/fish/Taxa=Eucyclogobius newberryi/part-0.parquet',\n",
       " '/home/shares/deltafish/fish/Taxa=Exopalaemon modestus/part-0.parquet',\n",
       " '/home/shares/deltafish/fish/Taxa=Gambusia affinis/part-0.parquet',\n",
       " '/home/shares/deltafish/fish/Taxa=Gasterosteus aculeatus/part-0.parquet',\n",
       " '/home/shares/deltafish/fish/Taxa=Genyonemus lineatus/part-0.parquet',\n",
       " '/home/shares/deltafish/fish/Taxa=Gibbonsia metzi/part-0.parquet',\n",
       " '/home/shares/deltafish/fish/Taxa=Gibbonsia montereyensis/part-0.parquet',\n",
       " '/home/shares/deltafish/fish/Taxa=Gillichthys mirabilis/part-0.parquet',\n",
       " '/home/shares/deltafish/fish/Taxa=Gobiidae/part-0.parquet',\n",
       " '/home/shares/deltafish/fish/Taxa=Hemilepidotus hemilepidotus/part-0.parquet',\n",
       " '/home/shares/deltafish/fish/Taxa=Hemilepidotus spinosus/part-0.parquet',\n",
       " '/home/shares/deltafish/fish/Taxa=Hesperoleucus symmetricus/part-0.parquet',\n",
       " '/home/shares/deltafish/fish/Taxa=Heterostichus rostratus/part-0.parquet',\n",
       " '/home/shares/deltafish/fish/Taxa=Hexagrammos decagrammus/part-0.parquet',\n",
       " '/home/shares/deltafish/fish/Taxa=Hippoglossus stenolepis/part-0.parquet',\n",
       " '/home/shares/deltafish/fish/Taxa=Hyperprosopon anale/part-0.parquet',\n",
       " '/home/shares/deltafish/fish/Taxa=Hyperprosopon argenteum/part-0.parquet',\n",
       " '/home/shares/deltafish/fish/Taxa=Hyperprosopon ellipticum/part-0.parquet',\n",
       " '/home/shares/deltafish/fish/Taxa=Hypomesus nipponensis/part-0.parquet',\n",
       " '/home/shares/deltafish/fish/Taxa=Hypomesus pretiosus/part-0.parquet',\n",
       " '/home/shares/deltafish/fish/Taxa=Hypomesus transpacificus/part-0.parquet',\n",
       " '/home/shares/deltafish/fish/Taxa=Hypsoblennius jenkinsi/part-0.parquet',\n",
       " '/home/shares/deltafish/fish/Taxa=Hypsurus caryi/part-0.parquet',\n",
       " '/home/shares/deltafish/fish/Taxa=Hysterocarpus traskii/part-0.parquet',\n",
       " '/home/shares/deltafish/fish/Taxa=Ictaluridae/part-0.parquet',\n",
       " '/home/shares/deltafish/fish/Taxa=Ictalurus furcatus/part-0.parquet',\n",
       " '/home/shares/deltafish/fish/Taxa=Ictalurus punctatus/part-0.parquet',\n",
       " '/home/shares/deltafish/fish/Taxa=Ilypnus gilberti/part-0.parquet',\n",
       " '/home/shares/deltafish/fish/Taxa=Inopsetta ischyra/part-0.parquet',\n",
       " '/home/shares/deltafish/fish/Taxa=Isopsetta isolepis/part-0.parquet',\n",
       " '/home/shares/deltafish/fish/Taxa=Lampetra ayresii/part-0.parquet',\n",
       " '/home/shares/deltafish/fish/Taxa=Lampetra richardsoni/part-0.parquet',\n",
       " '/home/shares/deltafish/fish/Taxa=Lampetra tridentata/part-0.parquet',\n",
       " '/home/shares/deltafish/fish/Taxa=Lavinia exilicauda/part-0.parquet',\n",
       " '/home/shares/deltafish/fish/Taxa=Lepidogobius lepidus/part-0.parquet',\n",
       " '/home/shares/deltafish/fish/Taxa=Lepidopsetta bilineata/part-0.parquet',\n",
       " '/home/shares/deltafish/fish/Taxa=Lepomis cyanellus/part-0.parquet',\n",
       " '/home/shares/deltafish/fish/Taxa=Lepomis gibbosus/part-0.parquet',\n",
       " '/home/shares/deltafish/fish/Taxa=Lepomis gulosus/part-0.parquet',\n",
       " '/home/shares/deltafish/fish/Taxa=Lepomis macrochirus/part-0.parquet',\n",
       " '/home/shares/deltafish/fish/Taxa=Lepomis microlophus/part-0.parquet',\n",
       " '/home/shares/deltafish/fish/Taxa=Lepomis/part-0.parquet',\n",
       " '/home/shares/deltafish/fish/Taxa=Leptocottus armatus/part-0.parquet',\n",
       " '/home/shares/deltafish/fish/Taxa=Leuresthes tenuis/part-0.parquet',\n",
       " '/home/shares/deltafish/fish/Taxa=Liparis fucensis/part-0.parquet',\n",
       " '/home/shares/deltafish/fish/Taxa=Liparis pulchellus/part-0.parquet',\n",
       " '/home/shares/deltafish/fish/Taxa=Liparis/part-0.parquet',\n",
       " '/home/shares/deltafish/fish/Taxa=Lucania goodei/part-0.parquet',\n",
       " '/home/shares/deltafish/fish/Taxa=Lucania parva/part-0.parquet',\n",
       " '/home/shares/deltafish/fish/Taxa=Lumpenus sagitta/part-0.parquet',\n",
       " '/home/shares/deltafish/fish/Taxa=Macoma/part-0.parquet',\n",
       " '/home/shares/deltafish/fish/Taxa=Maeotias marginata/part-0.parquet',\n",
       " '/home/shares/deltafish/fish/Taxa=Medialuna californiensis/part-0.parquet',\n",
       " '/home/shares/deltafish/fish/Taxa=Menidia audens/part-0.parquet',\n",
       " '/home/shares/deltafish/fish/Taxa=Microgadus proximus/part-0.parquet',\n",
       " '/home/shares/deltafish/fish/Taxa=Micrometrus minimus/part-0.parquet',\n",
       " '/home/shares/deltafish/fish/Taxa=Micropterus coosae/part-0.parquet',\n",
       " '/home/shares/deltafish/fish/Taxa=Micropterus dolomieu/part-0.parquet',\n",
       " '/home/shares/deltafish/fish/Taxa=Micropterus punctulatus/part-0.parquet',\n",
       " '/home/shares/deltafish/fish/Taxa=Micropterus salmoides/part-0.parquet',\n",
       " '/home/shares/deltafish/fish/Taxa=Micropterus/part-0.parquet',\n",
       " '/home/shares/deltafish/fish/Taxa=Microstomus pacificus/part-0.parquet',\n",
       " '/home/shares/deltafish/fish/Taxa=Morone saxatilis/part-0.parquet',\n",
       " '/home/shares/deltafish/fish/Taxa=Mugil cephalus/part-0.parquet',\n",
       " '/home/shares/deltafish/fish/Taxa=Mustelus californicus/part-0.parquet',\n",
       " '/home/shares/deltafish/fish/Taxa=Mustelus henlei/part-0.parquet',\n",
       " '/home/shares/deltafish/fish/Taxa=Myliobatis californica/part-0.parquet',\n",
       " '/home/shares/deltafish/fish/Taxa=Mylopharodon conocephalus/part-0.parquet',\n",
       " '/home/shares/deltafish/fish/Taxa=Myoidae/part-0.parquet',\n",
       " '/home/shares/deltafish/fish/Taxa=Mysida/part-0.parquet',\n",
       " '/home/shares/deltafish/fish/Taxa=Neoclinus uninotatus/part-0.parquet',\n",
       " '/home/shares/deltafish/fish/Taxa=Notemigonus crysoleucas/part-0.parquet',\n",
       " '/home/shares/deltafish/fish/Taxa=Notorynchus cepedianus/part-0.parquet',\n",
       " '/home/shares/deltafish/fish/Taxa=Notropis rubellus/part-0.parquet',\n",
       " '/home/shares/deltafish/fish/Taxa=Odontopyxis trispinosa/part-0.parquet',\n",
       " '/home/shares/deltafish/fish/Taxa=Oligocottus maculosus/part-0.parquet',\n",
       " '/home/shares/deltafish/fish/Taxa=Oligocottus rimensis/part-0.parquet',\n",
       " '/home/shares/deltafish/fish/Taxa=Oncorhynchus kisutch/part-0.parquet',\n",
       " '/home/shares/deltafish/fish/Taxa=Oncorhynchus mykiss/part-0.parquet',\n",
       " '/home/shares/deltafish/fish/Taxa=Oncorhynchus tshawytscha/part-0.parquet',\n",
       " '/home/shares/deltafish/fish/Taxa=Ophichthus zophochir/part-0.parquet',\n",
       " '/home/shares/deltafish/fish/Taxa=Ophiodon elongatus/part-0.parquet',\n",
       " '/home/shares/deltafish/fish/Taxa=Orthodon microlepidotus/part-0.parquet',\n",
       " '/home/shares/deltafish/fish/Taxa=Osmeridae/part-0.parquet',\n",
       " '/home/shares/deltafish/fish/Taxa=Palaemon kadiakensis/part-0.parquet',\n",
       " '/home/shares/deltafish/fish/Taxa=Palaemon macrodactylus/part-0.parquet',\n",
       " '/home/shares/deltafish/fish/Taxa=Palaemon modestus/part-0.parquet',\n",
       " '/home/shares/deltafish/fish/Taxa=Palaemon/part-0.parquet',\n",
       " '/home/shares/deltafish/fish/Taxa=Pandalus danae/part-0.parquet',\n",
       " '/home/shares/deltafish/fish/Taxa=Paralichthys californicus/part-0.parquet',\n",
       " '/home/shares/deltafish/fish/Taxa=Parophrys vetulus/part-0.parquet',\n",
       " '/home/shares/deltafish/fish/Taxa=Peprilus simillimus/part-0.parquet',\n",
       " '/home/shares/deltafish/fish/Taxa=Percidae/part-0.parquet',\n",
       " '/home/shares/deltafish/fish/Taxa=Percina macrolepida/part-0.parquet',\n",
       " '/home/shares/deltafish/fish/Taxa=Petromyzontiformes/part-0.parquet',\n",
       " '/home/shares/deltafish/fish/Taxa=Phanerodon furcatus/part-0.parquet',\n",
       " '/home/shares/deltafish/fish/Taxa=Pholis ornata/part-0.parquet',\n",
       " '/home/shares/deltafish/fish/Taxa=Pholis schultzi/part-0.parquet',\n",
       " '/home/shares/deltafish/fish/Taxa=Pimephales promelas/part-0.parquet',\n",
       " '/home/shares/deltafish/fish/Taxa=Pisces/part-0.parquet',\n",
       " '/home/shares/deltafish/fish/Taxa=Platichthys stellatus/part-0.parquet',\n",
       " '/home/shares/deltafish/fish/Taxa=Platyrhinoidis triseriata/part-0.parquet',\n",
       " '/home/shares/deltafish/fish/Taxa=Pleurobrachia bachei/part-0.parquet',\n",
       " '/home/shares/deltafish/fish/Taxa=Pleuronectidae/part-0.parquet',\n",
       " '/home/shares/deltafish/fish/Taxa=Pleuronectiformes/part-0.parquet',\n",
       " '/home/shares/deltafish/fish/Taxa=Pleuronichthys coenosus/part-0.parquet',\n",
       " '/home/shares/deltafish/fish/Taxa=Pleuronichthys decurrens/part-0.parquet',\n",
       " '/home/shares/deltafish/fish/Taxa=Pleuronichthys guttulatus/part-0.parquet',\n",
       " '/home/shares/deltafish/fish/Taxa=Pleuronichthys verticalis/part-0.parquet',\n",
       " '/home/shares/deltafish/fish/Taxa=Pogonichthys macrolepidotus/part-0.parquet',\n",
       " '/home/shares/deltafish/fish/Taxa=Polyorchis penicillatus/part-0.parquet',\n",
       " '/home/shares/deltafish/fish/Taxa=Pomoxis annularis/part-0.parquet',\n",
       " '/home/shares/deltafish/fish/Taxa=Pomoxis nigromaculatus/part-0.parquet',\n",
       " '/home/shares/deltafish/fish/Taxa=Pomoxis/part-0.parquet',\n",
       " '/home/shares/deltafish/fish/Taxa=Porichthys notatus/part-0.parquet',\n",
       " '/home/shares/deltafish/fish/Taxa=Potamocorbula amurensis/part-0.parquet',\n",
       " '/home/shares/deltafish/fish/Taxa=Procambarus clarkii/part-0.parquet',\n",
       " '/home/shares/deltafish/fish/Taxa=Psettichthys melanostictus/part-0.parquet',\n",
       " '/home/shares/deltafish/fish/Taxa=Pterygoplichthys disjunctivus/part-0.parquet',\n",
       " '/home/shares/deltafish/fish/Taxa=Ptychocheilus grandis/part-0.parquet',\n",
       " '/home/shares/deltafish/fish/Taxa=Raja binoculata/part-0.parquet',\n",
       " '/home/shares/deltafish/fish/Taxa=Rathbunella hypoplecta/part-0.parquet',\n",
       " '/home/shares/deltafish/fish/Taxa=Rhacochilus toxotes/part-0.parquet',\n",
       " '/home/shares/deltafish/fish/Taxa=Rhacochilus vacca/part-0.parquet',\n",
       " '/home/shares/deltafish/fish/Taxa=Rhinichthys osculus/part-0.parquet',\n",
       " '/home/shares/deltafish/fish/Taxa=Rhinobatos productus/part-0.parquet',\n",
       " '/home/shares/deltafish/fish/Taxa=Rhithropanopeus harrisii/part-0.parquet',\n",
       " '/home/shares/deltafish/fish/Taxa=Salmo trutta/part-0.parquet',\n",
       " '/home/shares/deltafish/fish/Taxa=Sarda chiliensis/part-0.parquet',\n",
       " '/home/shares/deltafish/fish/Taxa=Sardinops sagax/part-0.parquet',\n",
       " '/home/shares/deltafish/fish/Taxa=Scomber japonicus/part-0.parquet',\n",
       " '/home/shares/deltafish/fish/Taxa=Scorpaenichthys marmoratus/part-0.parquet',\n",
       " '/home/shares/deltafish/fish/Taxa=Scrippsia pacifica/part-0.parquet',\n",
       " '/home/shares/deltafish/fish/Taxa=Sebastes auriculatus/part-0.parquet',\n",
       " '/home/shares/deltafish/fish/Taxa=Sebastes carnatus/part-0.parquet',\n",
       " '/home/shares/deltafish/fish/Taxa=Sebastes flavidus/part-0.parquet',\n",
       " '/home/shares/deltafish/fish/Taxa=Sebastes melanops/part-0.parquet',\n",
       " '/home/shares/deltafish/fish/Taxa=Sebastes miniatus/part-0.parquet',\n",
       " '/home/shares/deltafish/fish/Taxa=Sebastes mystinus/part-0.parquet',\n",
       " '/home/shares/deltafish/fish/Taxa=Sebastes paucispinis/part-0.parquet',\n",
       " '/home/shares/deltafish/fish/Taxa=Sebastes/part-0.parquet',\n",
       " '/home/shares/deltafish/fish/Taxa=Seriphus politus/part-0.parquet',\n",
       " '/home/shares/deltafish/fish/Taxa=Siphateles bicolor/part-0.parquet',\n",
       " '/home/shares/deltafish/fish/Taxa=Sphyraena argentea/part-0.parquet',\n",
       " '/home/shares/deltafish/fish/Taxa=Spirinchus starksi/part-0.parquet',\n",
       " '/home/shares/deltafish/fish/Taxa=Spirinchus thaleichthys/part-0.parquet',\n",
       " '/home/shares/deltafish/fish/Taxa=Squalus acanthias/part-0.parquet',\n",
       " '/home/shares/deltafish/fish/Taxa=Symphurus atricauda/part-0.parquet',\n",
       " '/home/shares/deltafish/fish/Taxa=Syngnathus leptorhynchus/part-0.parquet',\n",
       " '/home/shares/deltafish/fish/Taxa=Synodus lucioceps/part-0.parquet',\n",
       " '/home/shares/deltafish/fish/Taxa=Thaleichthys pacificus/part-0.parquet',\n",
       " '/home/shares/deltafish/fish/Taxa=Torpedo californica/part-0.parquet',\n",
       " '/home/shares/deltafish/fish/Taxa=Trachurus symmetricus/part-0.parquet',\n",
       " '/home/shares/deltafish/fish/Taxa=Triakis semifasciata/part-0.parquet',\n",
       " '/home/shares/deltafish/fish/Taxa=Tridentiger barbatus/part-0.parquet',\n",
       " '/home/shares/deltafish/fish/Taxa=Tridentiger bifasciatus/part-0.parquet',\n",
       " '/home/shares/deltafish/fish/Taxa=Tridentiger trigonocephalus/part-0.parquet',\n",
       " '/home/shares/deltafish/fish/Taxa=Tridentiger/part-0.parquet',\n",
       " '/home/shares/deltafish/fish/Taxa=UnID/part-0.parquet',\n",
       " '/home/shares/deltafish/fish/Taxa=Upogebia/part-0.parquet']"
      ]
     },
     "execution_count": 15,
     "metadata": {},
     "output_type": "execute_result"
    }
   ],
   "source": [
    "deltafish.files"
   ]
  },
  {
   "cell_type": "code",
   "execution_count": 16,
   "metadata": {},
   "outputs": [
    {
     "data": {
      "text/plain": [
       "SampleID: string\n",
       "Length: double\n",
       "Count: double\n",
       "Notes_catch: string\n",
       "Taxa: string"
      ]
     },
     "execution_count": 16,
     "metadata": {},
     "output_type": "execute_result"
    }
   ],
   "source": [
    "deltafish.schema"
   ]
  },
  {
   "cell_type": "code",
   "execution_count": 17,
   "metadata": {},
   "outputs": [],
   "source": [
    "expr = ((ds.field(\"Taxa\")==\"Dorosoma petenense\")| \n",
    "        (ds.field(\"Taxa\")==\"Morone saxatilis\") |\n",
    "        (ds.field(\"Taxa\")== \"Spirinchus thaleichthys\"))\n",
    "\n",
    "fishf = deltafish.to_table(filter = expr,\n",
    "                           columns =['SampleID', 'Length', 'Count', 'Taxa'])"
   ]
  },
  {
   "cell_type": "code",
   "execution_count": 18,
   "metadata": {},
   "outputs": [
    {
     "data": {
      "text/plain": [
       "1817734"
      ]
     },
     "execution_count": 18,
     "metadata": {},
     "output_type": "execute_result"
    }
   ],
   "source": [
    "fishf.num_rows"
   ]
  },
  {
   "cell_type": "code",
   "execution_count": 19,
   "metadata": {},
   "outputs": [],
   "source": [
    "survey = ds.dataset(\"/home/shares/deltafish/survey\",\n",
    "                    format=\"parquet\",\n",
    "                    partitioning='hive')"
   ]
  },
  {
   "cell_type": "code",
   "execution_count": 20,
   "metadata": {},
   "outputs": [
    {
     "data": {
      "text/plain": [
       "Station: string\n",
       "Latitude: float\n",
       "Longitude: float\n",
       "Date: date32[day]\n",
       "Datetime: timestamp[ms, tz=America/Los_Angeles]\n",
       "Survey: int64\n",
       "Depth: float\n",
       "SampleID: string\n",
       "Method: string\n",
       "Tide: string\n",
       "Sal_surf: float\n",
       "Sal_bot: float\n",
       "Temp_surf: float\n",
       "Secchi: float\n",
       "Secchi_estimated: bool\n",
       "Tow_duration: float\n",
       "Tow_area: float\n",
       "Tow_volume: float\n",
       "Cable_length: float\n",
       "Tow_direction: string\n",
       "Notes_tow: string\n",
       "Notes_flowmeter: string\n",
       "Source: string"
      ]
     },
     "execution_count": 20,
     "metadata": {},
     "output_type": "execute_result"
    }
   ],
   "source": [
    "survey.schema"
   ]
  },
  {
   "cell_type": "code",
   "execution_count": 21,
   "metadata": {},
   "outputs": [],
   "source": [
    "survey_s = survey.to_table(columns=['SampleID','Datetime', 'Station', 'Longitude', 'Latitude'])"
   ]
  },
  {
   "cell_type": "code",
   "execution_count": 22,
   "metadata": {},
   "outputs": [
    {
     "data": {
      "text/html": [
       "<div>\n",
       "<style scoped>\n",
       "    .dataframe tbody tr th:only-of-type {\n",
       "        vertical-align: middle;\n",
       "    }\n",
       "\n",
       "    .dataframe tbody tr th {\n",
       "        vertical-align: top;\n",
       "    }\n",
       "\n",
       "    .dataframe thead th {\n",
       "        text-align: right;\n",
       "    }\n",
       "</style>\n",
       "<table border=\"1\" class=\"dataframe\">\n",
       "  <thead>\n",
       "    <tr style=\"text-align: right;\">\n",
       "      <th></th>\n",
       "      <th>SampleID</th>\n",
       "      <th>Length</th>\n",
       "      <th>Count</th>\n",
       "      <th>Taxa</th>\n",
       "      <th>Datetime</th>\n",
       "      <th>Station</th>\n",
       "      <th>Longitude</th>\n",
       "      <th>Latitude</th>\n",
       "    </tr>\n",
       "  </thead>\n",
       "  <tbody>\n",
       "    <tr>\n",
       "      <th>0</th>\n",
       "      <td>20mm 803</td>\n",
       "      <td>NaN</td>\n",
       "      <td>0.0</td>\n",
       "      <td>Dorosoma petenense</td>\n",
       "      <td>1995-08-04 10:37:00-07:00</td>\n",
       "      <td>323</td>\n",
       "      <td>-122.286308</td>\n",
       "      <td>38.042889</td>\n",
       "    </tr>\n",
       "    <tr>\n",
       "      <th>1</th>\n",
       "      <td>20mm 8030</td>\n",
       "      <td>NaN</td>\n",
       "      <td>0.0</td>\n",
       "      <td>Dorosoma petenense</td>\n",
       "      <td>2003-04-08 11:31:00-07:00</td>\n",
       "      <td>707</td>\n",
       "      <td>-121.707863</td>\n",
       "      <td>38.114693</td>\n",
       "    </tr>\n",
       "    <tr>\n",
       "      <th>2</th>\n",
       "      <td>20mm 8031</td>\n",
       "      <td>NaN</td>\n",
       "      <td>0.0</td>\n",
       "      <td>Dorosoma petenense</td>\n",
       "      <td>2003-04-08 11:44:00-07:00</td>\n",
       "      <td>707</td>\n",
       "      <td>-121.707863</td>\n",
       "      <td>38.114693</td>\n",
       "    </tr>\n",
       "    <tr>\n",
       "      <th>3</th>\n",
       "      <td>20mm 8032</td>\n",
       "      <td>NaN</td>\n",
       "      <td>0.0</td>\n",
       "      <td>Dorosoma petenense</td>\n",
       "      <td>2003-04-08 11:57:00-07:00</td>\n",
       "      <td>707</td>\n",
       "      <td>-121.707863</td>\n",
       "      <td>38.114693</td>\n",
       "    </tr>\n",
       "    <tr>\n",
       "      <th>4</th>\n",
       "      <td>20mm 8033</td>\n",
       "      <td>NaN</td>\n",
       "      <td>0.0</td>\n",
       "      <td>Dorosoma petenense</td>\n",
       "      <td>2003-04-08 12:40:00-07:00</td>\n",
       "      <td>711</td>\n",
       "      <td>-121.662247</td>\n",
       "      <td>38.177418</td>\n",
       "    </tr>\n",
       "  </tbody>\n",
       "</table>\n",
       "</div>"
      ],
      "text/plain": [
       "    SampleID  Length  Count                Taxa                  Datetime  \\\n",
       "0   20mm 803     NaN    0.0  Dorosoma petenense 1995-08-04 10:37:00-07:00   \n",
       "1  20mm 8030     NaN    0.0  Dorosoma petenense 2003-04-08 11:31:00-07:00   \n",
       "2  20mm 8031     NaN    0.0  Dorosoma petenense 2003-04-08 11:44:00-07:00   \n",
       "3  20mm 8032     NaN    0.0  Dorosoma petenense 2003-04-08 11:57:00-07:00   \n",
       "4  20mm 8033     NaN    0.0  Dorosoma petenense 2003-04-08 12:40:00-07:00   \n",
       "\n",
       "  Station   Longitude   Latitude  \n",
       "0     323 -122.286308  38.042889  \n",
       "1     707 -121.707863  38.114693  \n",
       "2     707 -121.707863  38.114693  \n",
       "3     707 -121.707863  38.114693  \n",
       "4     711 -121.662247  38.177418  "
      ]
     },
     "execution_count": 22,
     "metadata": {},
     "output_type": "execute_result"
    }
   ],
   "source": [
    "fish_j = fishf.join(survey_s, \"SampleID\").to_pandas()\n",
    "fish_j.head()"
   ]
  }
 ],
 "metadata": {
  "kernelspec": {
   "display_name": "scomp",
   "language": "python",
   "name": "python3"
  },
  "language_info": {
   "codemirror_mode": {
    "name": "ipython",
    "version": 3
   },
   "file_extension": ".py",
   "mimetype": "text/x-python",
   "name": "python",
   "nbconvert_exporter": "python",
   "pygments_lexer": "ipython3",
   "version": "3.10.12"
  }
 },
 "nbformat": 4,
 "nbformat_minor": 2
}
