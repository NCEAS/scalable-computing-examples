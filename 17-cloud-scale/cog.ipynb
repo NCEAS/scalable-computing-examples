{
 "cells": [
  {
   "cell_type": "code",
   "execution_count": null,
   "metadata": {},
   "outputs": [],
   "source": [
    "import xarray as xr\n",
    "import rasterio\n",
    "\n",
    "import pprint"
   ]
  },
  {
   "cell_type": "markdown",
   "metadata": {},
   "source": [
    "# Cloud-optimized GeoTIFFs"
   ]
  },
  {
   "cell_type": "markdown",
   "metadata": {},
   "source": [
    "Here's a freely available example of a nicely constructed COG from the state of Vermont."
   ]
  },
  {
   "cell_type": "code",
   "execution_count": null,
   "metadata": {},
   "outputs": [],
   "source": [
    "url = 'https://s3.us-east-2.amazonaws.com/vtopendata-prd/Imagery/STATEWIDE_2024_30cm_LeafOFF_4Band.tif'"
   ]
  },
  {
   "cell_type": "markdown",
   "metadata": {},
   "source": [
    "Check out how it looks in this cool browser-based COG mapper interface:\n",
    "https://cholmes.github.io/cog-map/#/url/https%3A%2F%2Fsentinel-cogs.s3.us-west-2.amazonaws.com%2Fsentinel-s2-l2a-cogs%2F4%2FW%2FEE%2F2020%2F6%2FS2B_4WEE_20200601_1_L2A%2FB08.tif/center/-157.0548,71.3442/zoom/8.8"
   ]
  },
  {
   "cell_type": "markdown",
   "metadata": {},
   "source": [
    "Let's take a quick peek at some file information. We get this via a very cheap HTTP range-request of the first few thousand kilobytes of this file, over HTTPS."
   ]
  },
  {
   "cell_type": "code",
   "execution_count": null,
   "metadata": {},
   "outputs": [],
   "source": [
    "with rasterio.open(url) as src:\n",
    "    pprint.pp(src.profile)"
   ]
  },
  {
   "cell_type": "markdown",
   "metadata": {},
   "source": [
    "Now let's open a connection to it using xarray, as we've done with numerous other files in other sessions. As always, this is reading just the metadata, and optionally preparing to chunk the data in different ways locally using Dask, depending on the `chunks` argument."
   ]
  },
  {
   "cell_type": "code",
   "execution_count": null,
   "metadata": {},
   "outputs": [],
   "source": [
    "xr.open_dataset(url, engine='rasterio', chunks={}).band_data\n",
    "\n",
    "# Try these too!\n",
    "#xr.open_dataset(url, engine='rasterio', chunks='auto').band_data\n",
    "#xr.open_dataset(url, engine='rasterio', chunks=None).band_data"
   ]
  },
  {
   "cell_type": "markdown",
   "metadata": {},
   "source": [
    "As expected with a COG file, the data provider has prepared _overviews_, referred to as _Reduced-Resolution Subfiles_ in the specification. Let's see what overviews exist in the file, using `rasterio`. This information all still comes from the file header. Metadata up front!"
   ]
  },
  {
   "cell_type": "code",
   "execution_count": null,
   "metadata": {},
   "outputs": [],
   "source": [
    "with rasterio.open(url) as src:\n",
    "    print(f'Band 1 overviews: {src.overviews(1)}')\n",
    "    print(f'Band 2 overviews: {src.overviews(2)}')\n",
    "    print(f'Band 3 overviews: {src.overviews(3)}')\n",
    "    print(f'Band 4 overviews: {src.overviews(4)}')"
   ]
  },
  {
   "cell_type": "markdown",
   "metadata": {},
   "source": [
    "Now we'll lazily open the data at the first level overview. Notice the difference in dimension and total size compared to the full resolution raster."
   ]
  },
  {
   "cell_type": "code",
   "execution_count": null,
   "metadata": {},
   "outputs": [],
   "source": [
    "xr.open_dataset(url, engine='rasterio', chunks={}, open_kwargs={\"overview_level\": 0})\n",
    "\n",
    "# This is basically dispatching to rioxarray's open_rasterio() function, with Dask chunking:\n",
    "#  rioxarray.open_rasterio(url, overview_level=8)"
   ]
  },
  {
   "cell_type": "markdown",
   "metadata": {},
   "source": [
    "Now let's jump to level 8..."
   ]
  },
  {
   "cell_type": "code",
   "execution_count": null,
   "metadata": {},
   "outputs": [],
   "source": [
    "vt_level8 = xr.open_dataset(url, engine='rasterio', chunks={}, open_kwargs={\"overview_level\": 8})\n",
    "vt_level8"
   ]
  },
  {
   "cell_type": "markdown",
   "metadata": {},
   "source": [
    "Remember that when we use xarray to read in a GeoTIFF, the `rio` attribute is our handle into the `rasterio` geospatial raster functionality that extends beyond what xarray provides for general n-dimensional arrays. Here we can print out the coordinate reference system."
   ]
  },
  {
   "cell_type": "code",
   "execution_count": null,
   "metadata": {},
   "outputs": [],
   "source": [
    "print(vt_level8.rio.crs)"
   ]
  },
  {
   "cell_type": "markdown",
   "metadata": {},
   "source": [
    "... and now transform this raster into the WGS84 CRS."
   ]
  },
  {
   "cell_type": "code",
   "execution_count": 78,
   "metadata": {},
   "outputs": [],
   "source": [
    "vt_level8_wgs84 = vt_level8.rio.reproject(\"EPSG:4326\")"
   ]
  },
  {
   "cell_type": "markdown",
   "metadata": {},
   "source": [
    "Let's have a quick look at the map! Yep, looks like Vermont."
   ]
  },
  {
   "cell_type": "code",
   "execution_count": null,
   "metadata": {},
   "outputs": [],
   "source": [
    "vt_level8_wgs84.band_data.plot.imshow(size=4, aspect=0.8, robust=True);"
   ]
  },
  {
   "cell_type": "markdown",
   "metadata": {},
   "source": [
    "Lastly, just for the exercise, let's create a bounding box (in coordinates of the source CRS) for a small area within the state, and retrieve the corresponding small subset of data at full resolution. Then we'll reproject the retrieved data into WGS84, and visualize it.\n",
    "\n",
    "Note that we have to clip before we reproject. Otherwise we'd be applying the transformation to the full high resolution dataset, and because this operation falls out side the core xarray+Dask parallelization capability, it requirezs materializing (hence downloading) all of the data.\n",
    "\n",
    "By doing it the way we do it here, the `rasterio` engine can get the clipped data quickly from the large COG file by issuing relevant HTTP range requests."
   ]
  },
  {
   "cell_type": "code",
   "execution_count": null,
   "metadata": {},
   "outputs": [],
   "source": [
    "import shapely\n",
    "import pyproj\n",
    "\n",
    "bbox_6589 = {\n",
    "        'type': 'Polygon',\n",
    "        'coordinates': [[\n",
    "            [480000, 220000],\n",
    "            [480000, 235000],\n",
    "            [485000, 235000],\n",
    "            [485000, 220000],\n",
    "            [480000, 220000]\n",
    "        ]]\n",
    "    }\n",
    "\n",
    "vt_level5 = xr.open_dataset(url, engine='rasterio', chunks={},\n",
    "                            open_kwargs={\"overview_level\": 5})\n",
    "vt_level5_clipped = vt_level5.rio.clip([bbox_6589])\n",
    "vt_level5_wgs84_clipped = vt_level5_clipped.rio.reproject(\"EPSG:4326\")\n",
    "vt_level5_wgs84_clipped"
   ]
  },
  {
   "cell_type": "code",
   "execution_count": null,
   "metadata": {},
   "outputs": [],
   "source": [
    "vt_level5_wgs84_clipped.band_data.plot.imshow(robust=True);"
   ]
  }
 ],
 "metadata": {
  "kernelspec": {
   "display_name": "scomp",
   "language": "python",
   "name": "python3"
  },
  "language_info": {
   "codemirror_mode": {
    "name": "ipython",
    "version": 3
   },
   "file_extension": ".py",
   "mimetype": "text/x-python",
   "name": "python",
   "nbconvert_exporter": "python",
   "pygments_lexer": "ipython3",
   "version": "3.10.12"
  }
 },
 "nbformat": 4,
 "nbformat_minor": 2
}
