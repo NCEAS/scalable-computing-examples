{
 "cells": [
  {
   "attachments": {},
   "cell_type": "markdown",
   "metadata": {},
   "source": [
    "# Session 15: Visualization"
   ]
  },
  {
   "cell_type": "code",
   "execution_count": null,
   "metadata": {},
   "outputs": [],
   "source": [
    "import parsl\n",
    "from parsl import python_app\n",
    "from parsl.config import Config\n",
    "from parsl.executors import HighThroughputExecutor\n",
    "from parsl.providers import LocalProvider\n",
    "\n",
    "from ipyleaflet import Map, LocalTileLayer, WMSLayer, projections\n",
    "\n",
    "from grouputils import initialize_rasterizer"
   ]
  },
  {
   "attachments": {},
   "cell_type": "markdown",
   "metadata": {},
   "source": [
    "Interactive plotting is an excellent tool to facilitate data exploration. A very popular tool for creating Interactive maps is [Leaflet](https://leafletjs.com/). Leaflet is a JavaScript library for mapping, which has wrappers in numerous languages including python (`ipyleaflet`).\n",
    "\n",
    "In the previous two sessions, we created tiles at the maximum zoom level (z = 13). If you wanted to display all of this data on an interactive map, like a Leaflet map, it would be extremely slow to load because there is so much of it, and it's at such a high resolution. To show this data in a performant way on a map, we need to create _lower_ resolution tiles (\"downsampling\"), and they need to be in a web-accessible format (most browsers can't render GeoTIFF files, so PNG is better.) - [Here is a good explanation](https://www.maptiler.com/google-maps-coordinates-tile-bounds-projection/)\n",
    "\n",
    "Today, we will create web tiles as PNG images of those tiles at all zoom levels, from 1 to 13. This way, when we are zoomed _out_ in the interactive map, the _lower_ resolution zoom level 1 is loaded. Higher resolution levels load only when you zoom _in_, and the extent you are trying to view is smaller, so fewer tiles load. This scaling of resolution by zoom level is what allows us to interact with the data in a performant way.\n",
    "\n",
    "First, we'll set up the rasterizer as before."
   ]
  },
  {
   "cell_type": "code",
   "execution_count": null,
   "metadata": {},
   "outputs": [],
   "source": [
    "iwp_rasterizer = initialize_rasterizer(\"/home/shares/example-pdg-data/SCC-2023\")"
   ]
  },
  {
   "attachments": {},
   "cell_type": "markdown",
   "metadata": {},
   "source": [
    "Here are the methods that we will use from the RasterTiler:\n",
    "\n",
    "1. `parent_geotiffs_from_children`, which takes as an argument the set of tiles (GeoTIFFs) that we produced yesterday, and produces parent tiles at the next zoom level.\n",
    "\n",
    "2. `webtiles_from_geotiffs` takes the set of GeoTIFFs produced by `parent_geotiffs_from_children` and creates PNG web tiles from them.\n",
    "    - Note: PNG stands for \"Portable Network Graphic\", which is a type of raster image file!\n",
    "\n",
    "Like the last session, we will run this code in batches."
   ]
  },
  {
   "cell_type": "code",
   "execution_count": null,
   "metadata": {},
   "outputs": [],
   "source": [
    "# We'll also use the make_batch function to create batches of\n",
    "# GeoTIFF files to process.\n",
    "def make_batch(items, batch_size):\n",
    "    return [items[i:i + batch_size] for i in range(0, len(items), batch_size)]"
   ]
  },
  {
   "attachments": {},
   "cell_type": "markdown",
   "metadata": {},
   "source": [
    "## Creating parent tiles\n",
    "\n",
    "To create lower resolution GeoTIFF files, we can combine high resolution GeoTIFFs then resample them so that we still have 256x256 pixel data. We will start with zoom level 12, and run the `parent_geotiffs_from_children` method on each zoom level to generate the parent zoom level. Then we run it on the parent level to generate the grandparent level...and so on."
   ]
  },
  {
   "cell_type": "code",
   "execution_count": null,
   "metadata": {},
   "outputs": [],
   "source": [
    "# Get each z-level of GeoTIFFs we need to create:\n",
    "parent_zs = list(range(12, 0, -1))\n",
    "print(f'Parent Zs: {parent_zs}')"
   ]
  },
  {
   "attachments": {},
   "cell_type": "markdown",
   "metadata": {},
   "source": [
    "Here is an example for how we can run this, without `parsl`, for just 1 z-level."
   ]
  },
  {
   "cell_type": "code",
   "execution_count": null,
   "metadata": {},
   "outputs": [],
   "source": [
    "parent_z = 12\n",
    "batch_size = 50\n",
    "\n",
    "# get a list of child paths from the parent zoom level\n",
    "all_child_paths = iwp_rasterizer.tiles.get_filenames_from_dir('geotiff', z = parent_z + 1) # z-level 13\n",
    "\n",
    "# Make a list of all the parent tiles that will be created from the z+1 child\n",
    "# tiles\n",
    "all_parent_tiles = set()\n",
    "for child_path in all_child_paths:\n",
    "    parent_tile = iwp_rasterizer.tiles.get_parent_tile(child_path)\n",
    "    all_parent_tiles.add(parent_tile)\n",
    "\n",
    "all_parent_tiles = list(all_parent_tiles)\n",
    "\n",
    "# Break all parent tiles at level z into batches\n",
    "parent_tile_batches = make_batch(all_parent_tiles, batch_size)\n",
    "\n",
    "# write the geotiff files for z-level 12\n",
    "for parent_tile_batch in parent_tile_batches:\n",
    "    # crate rasters for z-level 12 from aggregated z-level 13 rasters\n",
    "    iwp_rasterizer.parent_geotiffs_from_children(parent_tile_batch, recursive = False)\n"
   ]
  },
  {
   "attachments": {},
   "cell_type": "markdown",
   "metadata": {},
   "source": [
    "Check out the z-levels within the `geotiff` directory. There is now a z-level 12 that is populated with files.\n",
    "\n",
    "Now that we know how to do this for one zoom level...\n",
    "\n",
    "- How would you write this out for all of the levels?\n",
    "- In what part of the code would you want to insert a `@python_app` decorator to parallelize the process?\n",
    "- What dependencies exist for this parallel process to run correctly?\n",
    "\n",
    "Write a parsl app to parallelize generating the parent tiles."
   ]
  },
  {
   "cell_type": "code",
   "execution_count": null,
   "metadata": {},
   "outputs": [],
   "source": [
    "# Generate parsl app for creating parent geotiffs from children\n",
    "@python_app\n",
    "def create_composite_geotiffs(tiles, rasterizer):\n",
    "    return rasterizer.parent_geotiffs_from_children(tiles, recursive = False)"
   ]
  },
  {
   "cell_type": "markdown",
   "metadata": {},
   "source": [
    "Next, set up your executor as we did yesterday."
   ]
  },
  {
   "cell_type": "code",
   "execution_count": null,
   "metadata": {},
   "outputs": [],
   "source": [
    "# Set up executor\n",
    "activate_env = 'workon scomp'\n",
    "htex_local = Config(\n",
    "    executors=[\n",
    "        HighThroughputExecutor(\n",
    "            max_workers=11,\n",
    "            provider=LocalProvider(\n",
    "                worker_init=activate_env,\n",
    "                max_blocks = 1\n",
    "            )\n",
    "        )\n",
    "    ],\n",
    ")\n",
    "parsl.clear()\n",
    "parsl.load(htex_local)"
   ]
  },
  {
   "attachments": {},
   "cell_type": "markdown",
   "metadata": {},
   "source": [
    "Then generate parent tiles at all zoom levels."
   ]
  },
  {
   "cell_type": "code",
   "execution_count": null,
   "metadata": {},
   "outputs": [],
   "source": [
    "# generate parent tiles at all zoom levels using the parsl app\n",
    "batch_size = 50\n",
    "\n",
    "for z in parent_zs:\n",
    "\n",
    "    # Determine which tiles we need to make for the next z-level based on\n",
    "    # the path names of the files just created\n",
    "\n",
    "    all_child_paths = iwp_rasterizer.tiles.get_filenames_from_dir('geotiff', z=z + 1)\n",
    "\n",
    "    # Make a list of all the parent tiles that can be created from the z+1 child\n",
    "    # tiles\n",
    "    all_parent_tiles = set()\n",
    "    for child_path in all_child_paths:\n",
    "        parent_tile =  iwp_rasterizer.tiles.get_parent_tile(child_path)\n",
    "        all_parent_tiles.add(parent_tile)\n",
    "        \n",
    "    all_parent_tiles = list(all_parent_tiles)\n",
    "\n",
    "    # Break all parent tiles at level z into batches\n",
    "    parent_tile_batches = make_batch(all_parent_tiles, batch_size)\n",
    "\n",
    "    # Make parent GeoTIFFs for the current z-level (by combining the children tiles)\n",
    "    all_app_futures = []\n",
    "    for parent_tile_batch in parent_tile_batches:\n",
    "        app_future = create_composite_geotiffs(parent_tile_batch, iwp_rasterizer)\n",
    "        all_app_futures.append(app_future)\n",
    "\n",
    "    # Don't start the next z-level, and don't move to step 4, until the\n",
    "    # current z-level is complete\n",
    "    [app_future.result() for app_future in all_app_futures]"
   ]
  },
  {
   "attachments": {},
   "cell_type": "markdown",
   "metadata": {},
   "source": [
    "Great! Now all zoom levels have been created and populated with `.tif` files in the `geotiff` directory."
   ]
  },
  {
   "attachments": {},
   "cell_type": "markdown",
   "metadata": {},
   "source": [
    "# Make web tiles\n",
    "\n",
    "In the last step to create the web tiles for the map, we will use the `webtiles_from_geotiffs` method on all of the GeoTIFFs we just created. First, we need to update our `iwp_rasterizer` config object using the `update_ranges` method, which will add the new zoom ranges we just created to the config information."
   ]
  },
  {
   "cell_type": "code",
   "execution_count": null,
   "metadata": {},
   "outputs": [],
   "source": [
    "iwp_rasterizer.update_ranges()"
   ]
  },
  {
   "attachments": {},
   "cell_type": "markdown",
   "metadata": {},
   "source": [
    "Now we can get a list of files to create webtiles from, and run the `webtiles_from_geotiffs` function on just one geotiff file."
   ]
  },
  {
   "cell_type": "code",
   "execution_count": null,
   "metadata": {},
   "outputs": [],
   "source": [
    "geotiff_paths = iwp_rasterizer.tiles.get_filenames_from_dir('geotiff')\n",
    "iwp_rasterizer.webtile_from_geotiff(geotiff_paths[0])"
   ]
  },
  {
   "attachments": {},
   "cell_type": "markdown",
   "metadata": {},
   "source": [
    "Notice that there is a new directory called web_tiles, which contains 2 PNG image of the 1 GeoTIFF file input. Each PNG image represents a statistic calculated for that GeoTIFF: number of ice wedge polygons per pixel, and proportion of each pixel that is covered by ice wedge polygons.\n",
    "\n",
    "Saving the rasters as PNG's is a form of \"lossless\" compression. This means that data is not actually lost when we convert it, and it can be reconstructed. An example of \"lossy\" compression would be saving the data as JPEG's."
   ]
  },
  {
   "attachments": {},
   "cell_type": "markdown",
   "metadata": {},
   "source": [
    "Like we've done before, create a `parsl` app to create the web tiles in parallel. For `webtiles_from_geotiffs`, set `update_ranges = False` because already did that above."
   ]
  },
  {
   "cell_type": "code",
   "execution_count": null,
   "metadata": {},
   "outputs": [],
   "source": [
    "# create parsl app\n",
    "@python_app\n",
    "def create_web_tiles(geotiff_paths, rasterizer):\n",
    "    return rasterizer.webtiles_from_geotiffs(geotiff_paths, update_ranges=False) # we already updated the ranges!"
   ]
  },
  {
   "cell_type": "code",
   "execution_count": null,
   "metadata": {},
   "outputs": [],
   "source": [
    "# run app over all of the geotiffs in batches of 200\n",
    "batch_size_web_tiles = 200\n",
    "\n",
    "# Process web tiles in batches\n",
    "geotiff_batches = make_batch(geotiff_paths, batch_size_web_tiles)"
   ]
  },
  {
   "cell_type": "code",
   "execution_count": null,
   "metadata": {},
   "outputs": [],
   "source": [
    "all_app_futures = []\n",
    "for batch in geotiff_batches:\n",
    "    app_future = create_web_tiles(batch, iwp_rasterizer)\n",
    "    all_app_futures.append(app_future)\n",
    "\n",
    "# Don't record end time until all web tiles have been created\n",
    "[app_future.result() for app_future in all_app_futures]\n",
    "\n",
    "htex_local.executors[0].shutdown()\n",
    "parsl.clear()"
   ]
  },
  {
   "attachments": {},
   "cell_type": "markdown",
   "metadata": {},
   "source": [
    "Wonderful! Now we have created web tiles for all zoom levels. Don't forget to shut down the executor."
   ]
  },
  {
   "cell_type": "markdown",
   "metadata": {},
   "source": [
    "## Make a map!"
   ]
  },
  {
   "cell_type": "markdown",
   "metadata": {},
   "source": [
    "Now we are finally ready to explore these data using `ipyleaflet`. First, we have to set up a basemap layer to use. We use a set of WMS (Web Map Service) tiles provided by USGS. One reason we chose this set is it allows us to reproject the data into EPSG 4326, which is the projection our data are in. Other commonly used web tiles are in web mercator, which is not what our data are in."
   ]
  },
  {
   "cell_type": "code",
   "execution_count": null,
   "metadata": {},
   "outputs": [],
   "source": [
    "wms = WMSLayer(\n",
    "    url=\"https://basemap.nationalmap.gov:443/arcgis/services/USGSImageryTopo/MapServer/WmsServer\",\n",
    "    layers=\"0\",\n",
    "    format=\"image/png\",\n",
    "    transparent=True,\n",
    "    min_zoom=0,\n",
    "    crs=projections.EPSG4326\n",
    ")"
   ]
  },
  {
   "attachments": {},
   "cell_type": "markdown",
   "metadata": {},
   "source": [
    "Now we can call the `Map` function from `ipyleaflet`, set up a default zoom and center, add the WMS layer and projection, and finally add our set of local tiles using the `add_layer` method. \n",
    "\n",
    "Note that the path you give to the `LocalTileLayer` function has variables for z, x, and y. If you look in the `geotiff` directory at the higher zoom levels, you'll see that the directories and files are all named in a very standardized fashion. This is so that they can be automatically handled by the `LocalTileLayer` function. This is a standard for how web tiles are served. The methods from the `rasterizer` class handled this for us in our data processing."
   ]
  },
  {
   "cell_type": "code",
   "execution_count": null,
   "metadata": {},
   "outputs": [],
   "source": [
    "map = Map(center=(66.5, -159.9),\n",
    "        zoom=9,\n",
    "        layers=(wms,),\n",
    "        crs=projections.EPSG4326)\n",
    "\n",
    "map.add_layer(LocalTileLayer(path='web_tiles/prop_pixel_covered_by_IWP/WGS1984Quad/{z}/{x}/{y}.png'));\n",
    "\n",
    "map"
   ]
  },
  {
   "cell_type": "markdown",
   "metadata": {},
   "source": [
    "## Bonus\n",
    "\n",
    "Play around with [`ipyleaflet`](https://ipyleaflet.readthedocs.io/en/latest/) and add whatever features you think might be useful, like a legend or markers."
   ]
  }
 ],
 "metadata": {
  "kernelspec": {
   "display_name": "Python 3.9.13 ('scomp')",
   "language": "python",
   "name": "python3"
  },
  "language_info": {
   "codemirror_mode": {
    "name": "ipython",
    "version": 3
   },
   "file_extension": ".py",
   "mimetype": "text/x-python",
   "name": "python",
   "nbconvert_exporter": "python",
   "pygments_lexer": "ipython3",
   "version": "3.9.16"
  },
  "orig_nbformat": 4,
  "vscode": {
   "interpreter": {
    "hash": "0030ed2ed4c0609037967981d5426019e14a913516344490dbc8ffbbe92f86b7"
   }
  }
 },
 "nbformat": 4,
 "nbformat_minor": 2
}
