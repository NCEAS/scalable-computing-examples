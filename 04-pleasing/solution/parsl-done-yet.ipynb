{
 "cells": [
  {
   "attachments": {},
   "cell_type": "markdown",
   "metadata": {},
   "source": [
    "# Are we done yet?"
   ]
  },
  {
   "attachments": {},
   "cell_type": "markdown",
   "metadata": {},
   "source": [
    "Parsl and other concurrency libraries generally provide both **blocking** and **non-blocking** methods for accessing the results of asycnchronous method calls. By blocking, we are referring to methods that wait for the asynchronous opearation to complete before returning results, which blocks execution of the rest of a program. By non-blocking, we are referring to methods that return the result if it is available, but not if the async method hasn't completed yet. In that case, it lets the rest of the program to continue execution.\n",
    "\n",
    "In practice this means that we can either 1) wait for all async calls to complete, and then process them using the blocking methods, or 2) query with a non-blocking method to see if each async call is complete, and only then retrieve the results for that method. We illustrate this approach below with parsl."
   ]
  },
  {
   "cell_type": "code",
   "execution_count": null,
   "metadata": {},
   "outputs": [
    {
     "data": {
      "text/plain": [
       "<parsl.dataflow.dflow.DataFlowKernel at 0x7f6284b3abb0>"
      ]
     },
     "execution_count": 1,
     "metadata": {},
     "output_type": "execute_result"
    }
   ],
   "source": [
    "# Required packages\n",
    "import parsl\n",
    "from parsl import python_app\n",
    "from parsl.config import Config\n",
    "from parsl.executors import HighThroughputExecutor\n",
    "from parsl.providers import LocalProvider\n",
    "\n",
    "# Configure the parsl executor\n",
    "activate_env = 'workon scomp'\n",
    "htex_local = Config(\n",
    "    executors=[\n",
    "        HighThroughputExecutor(\n",
    "            max_workers_per_node=5,\n",
    "            provider=LocalProvider(\n",
    "                worker_init=activate_env\n",
    "            )\n",
    "        )\n",
    "    ],\n",
    ")\n",
    "parsl.clear()\n",
    "parsl.load(htex_local)"
   ]
  },
  {
   "cell_type": "code",
   "execution_count": 2,
   "metadata": {},
   "outputs": [],
   "source": [
    "@python_app\n",
    "def do_stuff(x):\n",
    "    import time\n",
    "    time.sleep(1)\n",
    "    return x**2\n"
   ]
  },
  {
   "cell_type": "code",
   "execution_count": 4,
   "metadata": {},
   "outputs": [
    {
     "name": "stdout",
     "output_type": "stream",
     "text": [
      "<AppFuture at 0x7f628411c400 state=pending>\n",
      "<AppFuture at 0x7f62943fdca0 state=pending>\n",
      "<AppFuture at 0x7f628410b880 state=pending>\n",
      "<AppFuture at 0x7f628410bd00 state=pending>\n",
      "<AppFuture at 0x7f628410b430 state=pending>\n",
      "<AppFuture at 0x7f628411f1f0 state=pending>\n",
      "<AppFuture at 0x7f628411f5b0 state=pending>\n",
      "<AppFuture at 0x7f628411f970 state=pending>\n",
      "<AppFuture at 0x7f628411fd30 state=pending>\n",
      "<AppFuture at 0x7f6284129130 state=pending>\n",
      "Checking:  <AppFuture at 0x7f628411c400 state=finished returned int>\n",
      "Do more with result:  0\n",
      "Checking:  <AppFuture at 0x7f62943fdca0 state=finished returned int>\n",
      "Do more with result:  1\n",
      "Checking:  <AppFuture at 0x7f628410b880 state=finished returned int>\n",
      "Do more with result:  4\n",
      "Checking:  <AppFuture at 0x7f628410bd00 state=finished returned int>\n",
      "Do more with result:  9\n",
      "Checking:  <AppFuture at 0x7f628410b430 state=finished returned int>\n",
      "Do more with result:  16\n",
      "Checking:  <AppFuture at 0x7f628411f1f0 state=pending>\n",
      "Sorry, come back later.\n",
      "Checking:  <AppFuture at 0x7f628411f5b0 state=pending>\n",
      "Sorry, come back later.\n",
      "Checking:  <AppFuture at 0x7f628411f970 state=pending>\n",
      "Sorry, come back later.\n",
      "Checking:  <AppFuture at 0x7f628411fd30 state=pending>\n",
      "Sorry, come back later.\n",
      "Checking:  <AppFuture at 0x7f6284129130 state=pending>\n",
      "Sorry, come back later.\n"
     ]
    }
   ],
   "source": [
    "import time\n",
    "all_futures = []\n",
    "for x in range(0,10):\n",
    "    future = do_stuff(x)\n",
    "    all_futures.append(future)\n",
    "    print(future)\n",
    "\n",
    "time.sleep(2)\n",
    "\n",
    "for future in all_futures:\n",
    "    print(\"Checking: \", future)\n",
    "    if (future.done()):\n",
    "        print(\"Do more with result: \", future.result())\n",
    "    else:\n",
    "        print(\"Sorry, come back later.\")\n"
   ]
  }
 ],
 "metadata": {
  "kernelspec": {
   "display_name": "scomp",
   "language": "python",
   "name": "python3"
  },
  "language_info": {
   "codemirror_mode": {
    "name": "ipython",
    "version": 3
   },
   "file_extension": ".py",
   "mimetype": "text/x-python",
   "name": "python",
   "nbconvert_exporter": "python",
   "pygments_lexer": "ipython3",
   "version": "3.10.12"
  },
  "orig_nbformat": 4
 },
 "nbformat": 4,
 "nbformat_minor": 2
}
